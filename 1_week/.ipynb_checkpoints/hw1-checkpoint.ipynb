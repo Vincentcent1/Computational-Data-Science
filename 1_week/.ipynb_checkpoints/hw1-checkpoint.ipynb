{
 "cells": [
  {
   "cell_type": "code",
   "execution_count": 1,
   "metadata": {},
   "outputs": [],
   "source": [
    "%matplotlib inline\n",
    "import numpy as np\n",
    "import matplotlib.pyplot as plt\n",
    "import tensorflow as tf\n",
    "\n",
    "csv = './linear.csv'\n",
    "data = np.genfromtxt(csv,delimiter=',')\n",
    "X = data[:,1:]\n",
    "Y = data[:,0]\n",
    "\n",
    "n = X.shape[0]\n",
    "d = X.shape[1]\n",
    "\n",
    "learn_rate = 0.05\n"
   ]
  },
  {
   "cell_type": "markdown",
   "metadata": {},
   "source": [
    "## Gradient Descent"
   ]
  },
  {
   "cell_type": "code",
   "execution_count": 2,
   "metadata": {},
   "outputs": [],
   "source": [
    "tf.reset_default_graph()\n",
    "x = tf.placeholder(tf.float32, [n,d], name='x')\n",
    "y = tf.placeholder(tf.float32, [n], name='y')\n",
    "y_reshaped = tf.reshape(y, [n,1])\n",
    "with tf.name_scope(\"gd\"):\n",
    "    w = tf.get_variable('weights', shape=[d,1], initializer=tf.zeros_initializer)\n",
    "\n",
    "loss = tf.reduce_sum((tf.square(tf.matmul(x,w) - y_reshaped)))/2/n #Mean-square Regression\n",
    "grad_loss = tf.gradients(loss,w)\n",
    "\n",
    "train_op = w.assign(w - tf.scalar_mul(0.5,grad_loss[0]))"
   ]
  },
  {
   "cell_type": "code",
   "execution_count": 3,
   "metadata": {},
   "outputs": [
    {
     "name": "stdout",
     "output_type": "stream",
     "text": [
      "[[-0.5739207 ]\n",
      " [ 1.3575705 ]\n",
      " [ 0.01527568]\n",
      " [-1.8828807 ]]\n"
     ]
    },
    {
     "data": {
      "text/plain": [
       "[<matplotlib.lines.Line2D at 0x7f59b0c917f0>]"
      ]
     },
     "execution_count": 3,
     "metadata": {},
     "output_type": "execute_result"
    },
    {
     "data": {
      "image/png": "[encoded data removed]",
      "text/plain": [
       "<Figure size 432x288 with 1 Axes>"
      ]
     },
     "metadata": {
      "needs_background": "light"
     },
     "output_type": "display_data"
    }
   ],
   "source": [
    "n_epoch = 50\n",
    "losses_list = []\n",
    "with tf.Session() as sess:\n",
    "    sess.run(tf.global_variables_initializer())\n",
    "    for i in range(n_epoch):\n",
    "        weight,loss_out = sess.run([train_op,loss],feed_dict={x:X,y:Y})\n",
    "#         print(weight,grad_loss_out,loss_out)\n",
    "        losses_list.append(loss_out)\n",
    "    print(weight)\n",
    "plt.plot(range(n_epoch),losses_list)"
   ]
  },
  {
   "cell_type": "markdown",
   "metadata": {},
   "source": [
    "## Exact Solution"
   ]
  },
  {
   "cell_type": "code",
   "execution_count": 4,
   "metadata": {},
   "outputs": [],
   "source": [
    "X_tf = tf.convert_to_tensor(X)\n",
    "Y_tf = tf.reshape(tf.convert_to_tensor(Y),[n,1])"
   ]
  },
  {
   "cell_type": "code",
   "execution_count": 5,
   "metadata": {},
   "outputs": [],
   "source": [
    "xtx_inv = tf.matrix_inverse(tf.matmul(X_tf,X_tf,True))\n",
    "xty = tf.matmul(X_tf,Y_tf,True)\n",
    "opt_w = tf.matmul(xtx_inv,xty)"
   ]
  },
  {
   "cell_type": "code",
   "execution_count": 6,
   "metadata": {},
   "outputs": [
    {
     "name": "stdout",
     "output_type": "stream",
     "text": [
      "[[-0.57392068]\n",
      " [ 1.35757059]\n",
      " [ 0.01527565]\n",
      " [-1.88288076]]\n"
     ]
    }
   ],
   "source": [
    "with tf.Session() as sess:\n",
    "    print(sess.run(opt_w))"
   ]
  },
  {
   "cell_type": "markdown",
   "metadata": {},
   "source": [
    "## Sklearn"
   ]
  },
  {
   "cell_type": "code",
   "execution_count": 7,
   "metadata": {},
   "outputs": [
    {
     "data": {
      "text/plain": [
       "array([-0.57392068,  1.35757059,  0.01527565, -1.88288076])"
      ]
     },
     "execution_count": 7,
     "metadata": {},
     "output_type": "execute_result"
    }
   ],
   "source": [
    "import sklearn.linear_model as lm\n",
    "lr = lm.LinearRegression(fit_intercept=False)\n",
    "lr.fit(X,Y)\n",
    "lr.coef_\n",
    "# lr.intercept_"
   ]
  },
  {
   "cell_type": "markdown",
   "metadata": {},
   "source": [
    "## Stochastic Gradient Descent"
   ]
  },
  {
   "cell_type": "code",
   "execution_count": 8,
   "metadata": {},
   "outputs": [],
   "source": [
    "tf.reset_default_graph()\n",
    "batch_size = 5\n",
    "n_epoch = 50\n",
    "data = tf.data.Dataset.from_tensor_slices((X,Y))\n",
    "data = data.shuffle(buffer_size=1000)\n",
    "data = data.batch(batch_size)\n",
    "data = data.repeat(n_epoch)\n",
    "iterator = tf.data.Iterator.from_structure(data.output_types,data.output_shapes)\n",
    "next_batch = iterator.get_next()\n",
    "training_init_op = iterator.make_initializer(data)"
   ]
  },
  {
   "cell_type": "code",
   "execution_count": 9,
   "metadata": {},
   "outputs": [],
   "source": [
    "x = tf.placeholder(tf.float32, [batch_size,d], name='x')\n",
    "y = tf.placeholder(tf.float32, [batch_size], name='y')\n",
    "y_reshaped = tf.reshape(y, [batch_size,1])\n",
    "with tf.name_scope(\"sgd\"):\n",
    "    w = tf.get_variable('weights', shape=[d,1], initializer=tf.zeros_initializer)\n",
    "\n",
    "loss = tf.reduce_sum((tf.square(tf.matmul(x,w) - y_reshaped)))/2/n #Mean-square Regression\n",
    "grad_loss = tf.gradients(loss,w)\n",
    "\n",
    "train_op = w.assign(w - tf.scalar_mul(0.5,grad_loss[0]))"
   ]
  },
  {
   "cell_type": "code",
   "execution_count": 10,
   "metadata": {},
   "outputs": [
    {
     "name": "stdout",
     "output_type": "stream",
     "text": [
      "[[-0.5733401 ]\n",
      " [ 1.3558862 ]\n",
      " [ 0.01319119]\n",
      " [-1.88197   ]]\n"
     ]
    },
    {
     "data": {
      "text/plain": [
       "[<matplotlib.lines.Line2D at 0x7f5990bc7358>]"
      ]
     },
     "execution_count": 10,
     "metadata": {},
     "output_type": "execute_result"
    },
    {
     "data": {
      "image/png": "[encoded data removed]",
      "text/plain": [
       "<Figure size 432x288 with 1 Axes>"
      ]
     },
     "metadata": {
      "needs_background": "light"
     },
     "output_type": "display_data"
    }
   ],
   "source": [
    "losses_list = []\n",
    "with tf.Session() as sess:\n",
    "    sess.run(tf.global_variables_initializer())\n",
    "    sess.run(training_init_op)\n",
    "    for i in range(n_epoch):\n",
    "        for i2 in range(n//batch_size):\n",
    "            X_batch, Y_batch = sess.run(next_batch)\n",
    "            weight,loss_out = sess.run([train_op,loss],feed_dict={x:X_batch,y:Y_batch})\n",
    "#         print(weight,grad_loss_out,loss_out)\n",
    "        losses_list.append(loss_out)\n",
    "    print(weight)\n",
    "plt.plot(range(n_epoch),losses_list)"
   ]
  },
  {
   "cell_type": "code",
   "execution_count": null,
   "metadata": {},
   "outputs": [],
   "source": []
  }
 ],
 "metadata": {
  "kernelspec": {
   "display_name": "Python [conda env:tf36]",
   "language": "python",
   "name": "conda-env-tf36-py"
  },
  "language_info": {
   "codemirror_mode": {
    "name": "ipython",
    "version": 3
   },
   "file_extension": ".py",
   "mimetype": "text/x-python",
   "name": "python",
   "nbconvert_exporter": "python",
   "pygments_lexer": "ipython3",
   "version": "3.6.6"
  }
 },
 "nbformat": 4,
 "nbformat_minor": 2
}
